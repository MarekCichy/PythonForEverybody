{
 "cells": [
  {
   "cell_type": "code",
   "execution_count": 2,
   "metadata": {},
   "outputs": [
    {
     "name": "stdout",
     "output_type": "stream",
     "text": [
      "{'one': 'uno', 'two': 'dos', 'three': 'tres'}\n"
     ]
    }
   ],
   "source": [
    "eng2sp = dict ()\n",
    "eng2sp = {'one': 'uno', 'two': 'dos', 'three': 'tres'}\n",
    "print (eng2sp)"
   ]
  },
  {
   "cell_type": "code",
   "execution_count": 8,
   "metadata": {},
   "outputs": [
    {
     "name": "stdout",
     "output_type": "stream",
     "text": [
      "{'Writing': 'achoo!', 'programs': 'achoo!', 'or': 'achoo!', 'programming': 'achoo!', 'is': 'achoo!', 'a': 'achoo!', 'very': 'achoo!', 'creative': 'achoo!', 'and': 'achoo!', 'rewarding': 'achoo!', 'activity': 'achoo!', 'You': 'achoo!', 'can': 'achoo!', 'write': 'achoo!', 'for': 'achoo!', 'many': 'achoo!', 'reasons': 'achoo!', 'ranging': 'achoo!', 'from': 'achoo!', 'making': 'achoo!', 'your': 'achoo!', 'living': 'achoo!', 'to': 'achoo!', 'solving': 'achoo!', 'difficult': 'achoo!', 'data': 'achoo!', 'analysis': 'achoo!', 'problem': 'achoo!', 'having': 'achoo!', 'fun': 'achoo!', 'helping': 'achoo!', 'someone': 'achoo!', 'else': 'achoo!', 'solve': 'achoo!', 'This': 'achoo!', 'book': 'achoo!', 'assumes': 'achoo!', 'that': 'achoo!', '{\\\\em': 'achoo!', 'everyone}': 'achoo!', 'needs': 'achoo!', 'know': 'achoo!', 'how': 'achoo!', 'program': 'achoo!', 'once': 'achoo!', 'you': 'achoo!', 'program,': 'achoo!', 'will': 'achoo!', 'figure': 'achoo!', 'out': 'achoo!', 'what': 'achoo!', 'want': 'achoo!', 'do': 'achoo!', 'with': 'achoo!', 'newfound': 'achoo!', 'skills': 'achoo!', 'We': 'achoo!', 'are': 'achoo!', 'surrounded': 'achoo!', 'in': 'achoo!', 'our': 'achoo!', 'daily': 'achoo!', 'lives': 'achoo!', 'computers': 'achoo!', 'laptops': 'achoo!', 'cell': 'achoo!', 'phones': 'achoo!', 'think': 'achoo!', 'of': 'achoo!', 'these': 'achoo!', 'as': 'achoo!', 'personal': 'achoo!', 'assistants': 'achoo!', 'who': 'achoo!', 'take': 'achoo!', 'care': 'achoo!', 'things': 'achoo!', 'on': 'achoo!', 'behalf': 'achoo!', 'The': 'achoo!', 'hardware': 'achoo!', 'current-day': 'achoo!', 'essentially': 'achoo!', 'built': 'achoo!', 'continuously': 'achoo!', 'ask': 'achoo!', 'us': 'achoo!', 'the': 'achoo!', 'question': 'achoo!', 'What': 'achoo!', 'would': 'achoo!', 'like': 'achoo!', 'me': 'achoo!', 'next': 'achoo!', 'Our': 'achoo!', 'fast': 'achoo!', 'have': 'achoo!', 'vasts': 'achoo!', 'amounts': 'achoo!', 'memory': 'achoo!', 'could': 'achoo!', 'be': 'achoo!', 'helpful': 'achoo!', 'if': 'achoo!', 'we': 'achoo!', 'only': 'achoo!', 'knew': 'achoo!', 'language': 'achoo!', 'speak': 'achoo!', 'explain': 'achoo!', 'computer': 'achoo!', 'it': 'achoo!', 'If': 'achoo!', 'this': 'achoo!', 'tell': 'achoo!', 'tasks': 'achoo!', 'were': 'achoo!', 'reptitive': 'achoo!', 'Interestingly,': 'achoo!', 'kinds': 'achoo!', 'best': 'achoo!', 'often': 'achoo!', 'humans': 'achoo!', 'find': 'achoo!', 'boring': 'achoo!', 'mind-numbing': 'achoo!'}\n",
      "hooray, slowar is boring!\n"
     ]
    }
   ],
   "source": [
    "slowar = dict()\n",
    "fhand = open ('words.txt')\n",
    "for line in fhand:\n",
    "    wordes=line.split()\n",
    "    for word in wordes:\n",
    "        slowar[word] = 'achoo!'\n",
    "\n",
    "print (slowar)\n",
    "if 'boring' in slowar:\n",
    "    print ('hooray, slowar is boring!')"
   ]
  },
  {
   "cell_type": "code",
   "execution_count": 14,
   "metadata": {},
   "outputs": [
    {
     "name": "stdout",
     "output_type": "stream",
     "text": [
      "Enter the file name: romeo.txt\n",
      "['But', 'soft', 'what', 'light', 'through', 'yonder', 'window', 'breaks', 'It', 'is', 'the', 'east', 'and', 'Juliet', 'sun', 'Arise', 'fair', 'kill', 'envious', 'moon', 'Who', 'already', 'sick', 'pale', 'with', 'grief']\n",
      "Arise 1\n",
      "But 1\n",
      "It 1\n",
      "Juliet 1\n",
      "Who 1\n",
      "already 1\n",
      "and 3\n",
      "breaks 1\n",
      "east 1\n",
      "envious 1\n",
      "fair 1\n",
      "grief 1\n",
      "is 3\n",
      "kill 1\n",
      "light 1\n",
      "moon 1\n",
      "pale 1\n",
      "sick 1\n",
      "soft 1\n",
      "sun 2\n",
      "the 3\n",
      "through 1\n",
      "what 1\n",
      "window 1\n",
      "with 1\n",
      "yonder 1\n"
     ]
    }
   ],
   "source": [
    "fname = input('Enter the file name: ')\n",
    "try:\n",
    "    fhand = open(fname)\n",
    "except:\n",
    "    print('File cannot be opened:', fname)\n",
    "    exit()\n",
    "counts = dict()\n",
    "for line in fhand:\n",
    "    words = line.split()\n",
    "    for word in words:\n",
    "        counts [word] = counts.get(word,0) + 1\n",
    "\n",
    "lst = list(counts.keys())\n",
    "print(lst)\n",
    "lst.sort()\n",
    "for key in lst:\n",
    "    print(key, counts[key])"
   ]
  },
  {
   "cell_type": "code",
   "execution_count": 18,
   "metadata": {},
   "outputs": [
    {
     "name": "stdout",
     "output_type": "stream",
     "text": [
      "Enter the file name: mbox.txt\n",
      "{'Sat': 61, 'Fri': 315, 'Thu': 392, 'Wed': 292, 'Tue': 372, 'Mon': 299, 'Sun': 66}\n"
     ]
    }
   ],
   "source": [
    "fname = input('Enter the file name: ')\n",
    "try:\n",
    "    fhand = open(fname)\n",
    "except:\n",
    "    print('File cannot be opened:', fname)\n",
    "    exit()\n",
    "dow_count = dict ()\n",
    "for line in fhand:\n",
    "    if 'From ' not in line or len(line) == 0:\n",
    "        continue\n",
    "    else:\n",
    "        words = line.split()\n",
    "        if words[0] == 'From':\n",
    "            dow_count [words[2]] = dow_count.get(words[2],0) + 1   \n",
    "            \n",
    "print (dow_count)"
   ]
  },
  {
   "cell_type": "code",
   "execution_count": 21,
   "metadata": {},
   "outputs": [
    {
     "name": "stdout",
     "output_type": "stream",
     "text": [
      "Enter the file name: romeo.txt\n",
      "{}\n"
     ]
    }
   ],
   "source": [
    "fname = input('Enter the file name: ')\n",
    "try:\n",
    "    fhand = open(fname)\n",
    "except:\n",
    "    print('File cannot be opened:', fname)\n",
    "    exit()\n",
    "dow_count = dict ()\n",
    "for line in fhand:\n",
    "    if 'From ' not in line or len(line) == 0:\n",
    "        continue\n",
    "    else:\n",
    "        words = line.split()\n",
    "        if words[0] == 'From':\n",
    "            dow_count [words[1]] = dow_count.get(words[1],0) + 1   \n",
    "            \n",
    "print (dow_count)"
   ]
  },
  {
   "cell_type": "code",
   "execution_count": 1,
   "metadata": {},
   "outputs": [
    {
     "name": "stdout",
     "output_type": "stream",
     "text": [
      "Enter the file name: fwefwe\n",
      "File cannot be opened: fwefwe\n"
     ]
    }
   ],
   "source": [
    "fname = input('Enter the file name: ')\n",
    "try:\n",
    "    fhand = open(fname)\n",
    "    dow_count = dict ()\n",
    "    for line in fhand:\n",
    "        if 'From ' not in line or len(line) == 0:\n",
    "            continue\n",
    "        else:\n",
    "            words = line.split()\n",
    "            if words[0] == 'From':\n",
    "                dow_count [words[1]] = dow_count.get(words[1],0) + 1   \n",
    "            \n",
    "    print ('Most emails came from:' + str(max(dow_count)) + ': ' + str(dow_count[max (dow_count)]))\n",
    "except:\n",
    "    print('File cannot be opened:', fname)\n",
    "    exit()"
   ]
  },
  {
   "cell_type": "code",
   "execution_count": 1,
   "metadata": {},
   "outputs": [
    {
     "name": "stdout",
     "output_type": "stream",
     "text": [
      "Enter the file name: mbox-short.txt\n",
      "{'uct.ac.za': 6, 'media.berkeley.edu': 4, 'umich.edu': 7, 'iupui.edu': 8, 'caret.cam.ac.uk': 1, 'gmail.com': 1}\n"
     ]
    }
   ],
   "source": [
    "fname = input('Enter the file name: ')\n",
    "try:\n",
    "    fhand = open(fname)\n",
    "    dom_count = dict ()\n",
    "    for line in fhand:\n",
    "        if 'From ' not in line or len(line) == 0:\n",
    "            continue\n",
    "        else:\n",
    "            words = line.split()\n",
    "            if words[0] == 'From':\n",
    "                words = words[1].split('@')\n",
    "                #print (words)\n",
    "                words = words[1]\n",
    "                #print (words)\n",
    "                dom_count [words] = dom_count.get(words,0) + 1   \n",
    "            \n",
    "    print (dom_count)\n",
    "except:\n",
    "    print('File cannot be opened:', fname)\n",
    "    exit()"
   ]
  },
  {
   "cell_type": "code",
   "execution_count": 19,
   "metadata": {},
   "outputs": [
    {
     "name": "stdout",
     "output_type": "stream",
     "text": [
      "umich.edu\n"
     ]
    }
   ],
   "source": [
    "fhand = open ('mbox-short.txt')\n",
    "for line in fhand:\n",
    "    if 'From ' not in line or len(line) == 0:\n",
    "        continue\n",
    "    else:\n",
    "        words = line.split()\n",
    "        if words[0] == 'From ':\n",
    "            domain = words[1].split('@', 1)\n",
    "            domain = domain [1]\n",
    "print (domain)"
   ]
  },
  {
   "cell_type": "code",
   "execution_count": 18,
   "metadata": {},
   "outputs": [
    {
     "name": "stdout",
     "output_type": "stream",
     "text": [
      "['From', 'cwen@iupui.edu', 'Thu', 'Jan', '3', '16:23:48', '2008']\n",
      "cwen@iupui.edu\n",
      "['cwen', 'iupui.edu']\n",
      "iupui.edu\n"
     ]
    }
   ],
   "source": [
    "example = \"From cwen@iupui.edu Thu Jan  3 16:23:48 2008\"\n",
    "\n",
    "words = example.split()\n",
    "\n",
    "print (words)\n",
    "\n",
    "words = words [1]\n",
    "\n",
    "print (words)\n",
    "\n",
    "words = words.split ('@')\n",
    "\n",
    "print (words)\n",
    "\n",
    "words = words [1]\n",
    "\n",
    "print (words)"
   ]
  }
 ],
 "metadata": {
  "kernelspec": {
   "display_name": "Python 3",
   "language": "python",
   "name": "python3"
  },
  "language_info": {
   "codemirror_mode": {
    "name": "ipython",
    "version": 3
   },
   "file_extension": ".py",
   "mimetype": "text/x-python",
   "name": "python",
   "nbconvert_exporter": "python",
   "pygments_lexer": "ipython3",
   "version": "3.7.1"
  }
 },
 "nbformat": 4,
 "nbformat_minor": 2
}
