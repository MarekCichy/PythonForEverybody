{
 "cells": [
  {
   "cell_type": "code",
   "execution_count": 18,
   "metadata": {},
   "outputs": [
    {
     "data": {
      "text/plain": [
       "float"
      ]
     },
     "execution_count": 18,
     "metadata": {},
     "output_type": "execute_result"
    }
   ],
   "source": [
    "width = 17\n",
    "height = 12.0\n",
    "height / 3\n",
    "type(height)"
   ]
  },
  {
   "cell_type": "code",
   "execution_count": 5,
   "metadata": {},
   "outputs": [
    {
     "name": "stdout",
     "output_type": "stream",
     "text": [
      "What is the input format? \n",
      "Write f for Fahrenheit and c for Celsiusc\n",
      "Please insert the temperature in Celsius:\n",
      "34\n",
      "The temperature in Fahrenheit is 93.2\n"
     ]
    }
   ],
   "source": [
    "choice = input ('What is the input format? \\nWrite f for Fahrenheit and c for Celsius')\n",
    "if choice == \"f\":\n",
    "    fahrenheit = float (input ('Please insert the temperature in Fahrenheit:\\n'))\n",
    "    celsius = (fahrenheit-32) * 5 / 9\n",
    "    print ('The temperature in Celsius is ' + str(celsius))\n",
    "elif choice == \"c\":\n",
    "    celsius = float (input ('Please insert the temperature in Celsius:\\n'))\n",
    "    fahrenheit = celsius * 9 / 5 + 32\n",
    "    print ('The temperature in Fahrenheit is ' + str(fahrenheit))\n",
    "else:\n",
    "    print ('Read the instructions, dumbass!')"
   ]
  },
  {
   "cell_type": "code",
   "execution_count": 10,
   "metadata": {},
   "outputs": [
    {
     "name": "stdout",
     "output_type": "stream",
     "text": [
      "Enter your hourload:\n",
      "41\n",
      "Enter your rate:\n",
      "10\n",
      "Your pay is:415.0\n"
     ]
    }
   ],
   "source": [
    "hours = float (input ('Enter your hourload:\\n'))\n",
    "rate = float (input ('Enter your rate:\\n'))\n",
    "if hours > 40:\n",
    "    pay = (40 * rate) + (hours-40) * rate * 1.5\n",
    "else:\n",
    "    pay = hours * rate\n",
    "print (\"Your pay is:\" + str(pay))"
   ]
  },
  {
   "cell_type": "code",
   "execution_count": 17,
   "metadata": {},
   "outputs": [
    {
     "name": "stdout",
     "output_type": "stream",
     "text": [
      "Enter your hourload:\n",
      "gw4eg\n",
      "Please enter numeric value, dumbo!\n"
     ]
    }
   ],
   "source": [
    "try:\n",
    "    hours = float (input ('Enter your hourload:\\n'))\n",
    "    rate = float (input ('Enter your rate:\\n'))\n",
    "    if hours > 40:\n",
    "        pay = (40 * rate) + (hours-40) * rate * 1.5\n",
    "    else:\n",
    "        pay = hours * rate\n",
    "    print (\"Your pay is:\" + str(pay))\n",
    "except:\n",
    "    print ('Please enter numeric value, dumbo!')"
   ]
  },
  {
   "cell_type": "code",
   "execution_count": 3,
   "metadata": {},
   "outputs": [
    {
     "name": "stdout",
     "output_type": "stream",
     "text": [
      "Please enter a score between 0.0 and 1.0\n",
      "2343\n",
      "Not a score\n"
     ]
    }
   ],
   "source": [
    "try:\n",
    "    score = float (input ('Please enter a score between 0.0 and 1.0\\n'))\n",
    "    if score >=0.0 and score < 0.6:\n",
    "        print (\"F\")\n",
    "    elif score >=0.6 and score < 0.7:\n",
    "        print (\"D\")\n",
    "    elif score >=0.7 and score < 0.8:\n",
    "        print (\"C\")     \n",
    "    elif score >=0.8 and score < 0.9:\n",
    "        print (\"B\")\n",
    "    elif score >=0.9 and score <= 1.0:\n",
    "        print (\"A\")\n",
    "    else:\n",
    "        print (\"Not a score\")\n",
    "except:\n",
    "    print (\"Not even a number\")"
   ]
  },
  {
   "cell_type": "code",
   "execution_count": null,
   "metadata": {},
   "outputs": [],
   "source": []
  },
  {
   "cell_type": "code",
   "execution_count": null,
   "metadata": {},
   "outputs": [],
   "source": []
  },
  {
   "cell_type": "code",
   "execution_count": null,
   "metadata": {},
   "outputs": [],
   "source": []
  },
  {
   "cell_type": "code",
   "execution_count": null,
   "metadata": {},
   "outputs": [],
   "source": []
  }
 ],
 "metadata": {
  "kernelspec": {
   "display_name": "Python 3",
   "language": "python",
   "name": "python3"
  },
  "language_info": {
   "codemirror_mode": {
    "name": "ipython",
    "version": 3
   },
   "file_extension": ".py",
   "mimetype": "text/x-python",
   "name": "python",
   "nbconvert_exporter": "python",
   "pygments_lexer": "ipython3",
   "version": "3.7.1"
  }
 },
 "nbformat": 4,
 "nbformat_minor": 2
}
