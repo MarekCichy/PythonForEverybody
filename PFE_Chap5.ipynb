{
 "cells": [
  {
   "cell_type": "code",
   "execution_count": 3,
   "metadata": {},
   "outputs": [
    {
     "name": "stdout",
     "output_type": "stream",
     "text": [
      "5\n",
      "4\n",
      "3\n",
      "2\n",
      "1\n",
      "Blastoff!\n"
     ]
    }
   ],
   "source": [
    "n = 5\n",
    "while n > 0:\n",
    "    print(n)\n",
    "    n = n - 1\n",
    "print('Blastoff!')"
   ]
  },
  {
   "cell_type": "code",
   "execution_count": 1,
   "metadata": {},
   "outputs": [
    {
     "name": "stdout",
     "output_type": "stream",
     "text": [
      "Wyładuj złość, nawrzucaj mi ile wlezie.\n",
      "Jeśli chcesz skończyć, napisz \"Andrzej Duda\" \n",
      ">Andrzej Duda\n",
      "Ulżyło?\n"
     ]
    }
   ],
   "source": [
    "while True:\n",
    "    line = input('Wyładuj złość, nawrzucaj mi ile wlezie.\\nJeśli chcesz skończyć, napisz \"Andrzej Duda\" \\n>')\n",
    "    if line == 'Andrzej Duda':\n",
    "        break\n",
    "    print(line)\n",
    "print('Ulżyło?')"
   ]
  },
  {
   "cell_type": "code",
   "execution_count": 5,
   "metadata": {},
   "outputs": [
    {
     "name": "stdout",
     "output_type": "stream",
     "text": [
      "Happy New Year: Joseph\n",
      "Happy New Year: Glenn\n",
      "Happy New Year: Sally\n",
      "Done!\n"
     ]
    }
   ],
   "source": [
    "friends = ['Joseph', 'Glenn', 'Sally']\n",
    "for fe in friends:\n",
    "    print('Happy New Year:', fe)\n",
    "print('Done!')"
   ]
  },
  {
   "cell_type": "code",
   "execution_count": 3,
   "metadata": {},
   "outputs": [
    {
     "name": "stdout",
     "output_type": "stream",
     "text": [
      "Ojcze nasz, któryś jest w niebie...\n",
      "Zdrowaś Maryjo, łaski pełna, Pan z Tobą...\n",
      "Zdrowaś Maryjo, łaski pełna, Pan z Tobą...\n",
      "Zdrowaś Maryjo, łaski pełna, Pan z Tobą...\n",
      "Zdrowaś Maryjo, łaski pełna, Pan z Tobą...\n",
      "Zdrowaś Maryjo, łaski pełna, Pan z Tobą...\n",
      "Zdrowaś Maryjo, łaski pełna, Pan z Tobą...\n",
      "Zdrowaś Maryjo, łaski pełna, Pan z Tobą...\n",
      "Zdrowaś Maryjo, łaski pełna, Pan z Tobą...\n",
      "Zdrowaś Maryjo, łaski pełna, Pan z Tobą...\n",
      "Zdrowaś Maryjo, łaski pełna, Pan z Tobą...\n",
      "Chwała Ojcu i Synowi...\n",
      "Ojcze nasz, któryś jest w niebie...\n",
      "Zdrowaś Maryjo, łaski pełna, Pan z Tobą...\n",
      "Zdrowaś Maryjo, łaski pełna, Pan z Tobą...\n",
      "Zdrowaś Maryjo, łaski pełna, Pan z Tobą...\n",
      "Zdrowaś Maryjo, łaski pełna, Pan z Tobą...\n",
      "Zdrowaś Maryjo, łaski pełna, Pan z Tobą...\n",
      "Zdrowaś Maryjo, łaski pełna, Pan z Tobą...\n",
      "Zdrowaś Maryjo, łaski pełna, Pan z Tobą...\n",
      "Zdrowaś Maryjo, łaski pełna, Pan z Tobą...\n",
      "Zdrowaś Maryjo, łaski pełna, Pan z Tobą...\n",
      "Zdrowaś Maryjo, łaski pełna, Pan z Tobą...\n",
      "Chwała Ojcu i Synowi...\n",
      "Ojcze nasz, któryś jest w niebie...\n",
      "Zdrowaś Maryjo, łaski pełna, Pan z Tobą...\n",
      "Zdrowaś Maryjo, łaski pełna, Pan z Tobą...\n",
      "Zdrowaś Maryjo, łaski pełna, Pan z Tobą...\n",
      "Zdrowaś Maryjo, łaski pełna, Pan z Tobą...\n",
      "Zdrowaś Maryjo, łaski pełna, Pan z Tobą...\n",
      "Zdrowaś Maryjo, łaski pełna, Pan z Tobą...\n",
      "Zdrowaś Maryjo, łaski pełna, Pan z Tobą...\n",
      "Zdrowaś Maryjo, łaski pełna, Pan z Tobą...\n",
      "Zdrowaś Maryjo, łaski pełna, Pan z Tobą...\n",
      "Zdrowaś Maryjo, łaski pełna, Pan z Tobą...\n",
      "Chwała Ojcu i Synowi...\n",
      "Ojcze nasz, któryś jest w niebie...\n",
      "Zdrowaś Maryjo, łaski pełna, Pan z Tobą...\n",
      "Zdrowaś Maryjo, łaski pełna, Pan z Tobą...\n",
      "Zdrowaś Maryjo, łaski pełna, Pan z Tobą...\n",
      "Zdrowaś Maryjo, łaski pełna, Pan z Tobą...\n",
      "Zdrowaś Maryjo, łaski pełna, Pan z Tobą...\n",
      "Zdrowaś Maryjo, łaski pełna, Pan z Tobą...\n",
      "Zdrowaś Maryjo, łaski pełna, Pan z Tobą...\n",
      "Zdrowaś Maryjo, łaski pełna, Pan z Tobą...\n",
      "Zdrowaś Maryjo, łaski pełna, Pan z Tobą...\n",
      "Zdrowaś Maryjo, łaski pełna, Pan z Tobą...\n",
      "Chwała Ojcu i Synowi...\n",
      "Ojcze nasz, któryś jest w niebie...\n",
      "Zdrowaś Maryjo, łaski pełna, Pan z Tobą...\n",
      "Zdrowaś Maryjo, łaski pełna, Pan z Tobą...\n",
      "Zdrowaś Maryjo, łaski pełna, Pan z Tobą...\n",
      "Zdrowaś Maryjo, łaski pełna, Pan z Tobą...\n",
      "Zdrowaś Maryjo, łaski pełna, Pan z Tobą...\n",
      "Zdrowaś Maryjo, łaski pełna, Pan z Tobą...\n",
      "Zdrowaś Maryjo, łaski pełna, Pan z Tobą...\n",
      "Zdrowaś Maryjo, łaski pełna, Pan z Tobą...\n",
      "Zdrowaś Maryjo, łaski pełna, Pan z Tobą...\n",
      "Zdrowaś Maryjo, łaski pełna, Pan z Tobą...\n",
      "Chwała Ojcu i Synowi...\n"
     ]
    }
   ],
   "source": [
    "zdrowaski = 10\n",
    "ojczenasze = 5\n",
    "while ojczenasze > 0:\n",
    "    print (\"Ojcze nasz, któryś jest w niebie...\")\n",
    "    ojczenasze = ojczenasze - 1\n",
    "    while zdrowaski > 0:\n",
    "        print ('Zdrowaś Maryjo, łaski pełna, Pan z Tobą...')\n",
    "        zdrowaski = zdrowaski - 1\n",
    "    print (\"Chwała Ojcu i Synowi...\")\n",
    "    zdrowaski = 10"
   ]
  },
  {
   "cell_type": "code",
   "execution_count": 6,
   "metadata": {},
   "outputs": [
    {
     "name": "stdout",
     "output_type": "stream",
     "text": [
      "Total:  3\n",
      "Total:  44\n",
      "Total:  56\n",
      "Total:  65\n",
      "Total:  139\n",
      "Total:  154\n"
     ]
    }
   ],
   "source": [
    "total = 0\n",
    "for itervar in [3, 41, 12, 9, 74, 15]:\n",
    "    total = total + itervar\n",
    "    print('Total: ', total)"
   ]
  },
  {
   "cell_type": "code",
   "execution_count": 3,
   "metadata": {},
   "outputs": [
    {
     "name": "stdout",
     "output_type": "stream",
     "text": [
      "Insert a number: gesrge\n",
      "Enter only numbers, numbass!\n",
      "Insert a number: done\n",
      "Average: 0\n",
      "Count: 1\n",
      "Total: 0\n"
     ]
    }
   ],
   "source": [
    "avg = 0\n",
    "count = 0\n",
    "total = 0\n",
    "\n",
    "while True:\n",
    "    line = input ('Insert a number: ')\n",
    "    try:\n",
    "        if line == \"done\":\n",
    "            print (\"Average: \" + str (avg))\n",
    "            print (\"Count: \" + str (count))\n",
    "            print (\"Total: \" + str (total))\n",
    "            break\n",
    "        \n",
    "        else:\n",
    "            count = count + 1\n",
    "            total = total + float(line)\n",
    "            avg = total / count\n",
    "    except:\n",
    "        print ('Enter only numbers, numbass!')\n",
    "    "
   ]
  },
  {
   "cell_type": "code",
   "execution_count": 5,
   "metadata": {},
   "outputs": [
    {
     "name": "stdout",
     "output_type": "stream",
     "text": [
      "Insert a number: fuap\n",
      "Enter only numbers, my dear lord!\n",
      "Insert a number: fepofampeo\n",
      "Enter only numbers, my dear lord!\n",
      "Insert a number: done\n",
      "Maximum: None\n",
      "Minimum: None\n"
     ]
    }
   ],
   "source": [
    "max = None\n",
    "min = None\n",
    "count = 0\n",
    "\n",
    "while True:\n",
    "    line = input ('Insert a number: ')\n",
    "    if line == \"done\":\n",
    "        print (\"Maximum: \" + str (max))\n",
    "        print (\"Minimum: \" + str (min))\n",
    "        break\n",
    "        \n",
    "    else:\n",
    "        try:\n",
    "            if count == 0:\n",
    "                max = float (line)\n",
    "                min = float (line)\n",
    "                count = 1\n",
    "         \n",
    "            else:\n",
    "                if float (line) > max:\n",
    "                    max = float (line)\n",
    "                else:\n",
    "                    if float (line) < min:\n",
    "                        min = float (line)   \n",
    "            \n",
    "        except:\n",
    "            print ('Enter only numbers, my dear lord!')"
   ]
  },
  {
   "cell_type": "code",
   "execution_count": null,
   "metadata": {},
   "outputs": [],
   "source": [
    "max = None\n",
    "print ( max < 0 )"
   ]
  },
  {
   "cell_type": "code",
   "execution_count": 3,
   "metadata": {},
   "outputs": [
    {
     "name": "stdout",
     "output_type": "stream",
     "text": [
      "6666\n",
      "6666\n"
     ]
    }
   ],
   "source": [
    "max = 0\n",
    "min = 0\n",
    "line = input ()\n",
    "\n",
    "if float (line) > max:\n",
    "    max = float (line)\n",
    "else:\n",
    "    if float (line) < min:\n",
    "        min = float (line)   \n",
    "        \n",
    "print (line)"
   ]
  }
 ],
 "metadata": {
  "kernelspec": {
   "display_name": "Python 3",
   "language": "python",
   "name": "python3"
  },
  "language_info": {
   "codemirror_mode": {
    "name": "ipython",
    "version": 3
   },
   "file_extension": ".py",
   "mimetype": "text/x-python",
   "name": "python",
   "nbconvert_exporter": "python",
   "pygments_lexer": "ipython3",
   "version": "3.7.1"
  }
 },
 "nbformat": 4,
 "nbformat_minor": 2
}
