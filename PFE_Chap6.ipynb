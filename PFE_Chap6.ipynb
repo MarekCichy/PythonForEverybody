{
 "cells": [
  {
   "cell_type": "code",
   "execution_count": 9,
   "metadata": {},
   "outputs": [
    {
     "name": "stdout",
     "output_type": "stream",
     "text": [
      "Please enter (a) word(s):Dzikie wężę\n",
      "ę\n",
      "ż\n",
      "ę\n",
      "w\n",
      " \n",
      "e\n",
      "i\n",
      "k\n",
      "i\n",
      "z\n",
      "D\n"
     ]
    }
   ],
   "source": [
    "word = str(input ('Please enter (a) word(s):'))\n",
    "index = len(word)-1\n",
    "while index > -1:\n",
    "    print (word[index])\n",
    "    index = index-1"
   ]
  },
  {
   "cell_type": "code",
   "execution_count": 12,
   "metadata": {},
   "outputs": [
    {
     "name": "stdout",
     "output_type": "stream",
     "text": [
      "Please enter (a) word(s):odrażający drab\n",
      "o\n",
      "d\n",
      "r\n",
      "a\n",
      "ż\n",
      "a\n",
      "j\n",
      "ą\n",
      "c\n",
      "y\n",
      " \n",
      "d\n",
      "r\n",
      "a\n",
      "b\n"
     ]
    }
   ],
   "source": [
    "word = str(input ('Please enter (a) word(s):'))\n",
    "for letter in word:\n",
    "    print (letter)"
   ]
  },
  {
   "cell_type": "code",
   "execution_count": 14,
   "metadata": {},
   "outputs": [
    {
     "data": {
      "text/plain": [
       "'odrażający drab'"
      ]
     },
     "execution_count": 14,
     "metadata": {},
     "output_type": "execute_result"
    }
   ],
   "source": [
    "word [:]"
   ]
  },
  {
   "cell_type": "code",
   "execution_count": 22,
   "metadata": {},
   "outputs": [
    {
     "name": "stdout",
     "output_type": "stream",
     "text": [
      "Insert a word: efwefw\n",
      "Insert a letter to be counted: e\n",
      "e occurs in efwefw 2 times\n"
     ]
    }
   ],
   "source": [
    "def letter_counter (word, letter_counted):\n",
    "    count = 0\n",
    "    for letter in word:\n",
    "        if letter == letter_counted:\n",
    "            count = count + 1\n",
    "    return count\n",
    "\n",
    "slowo = input ('Insert a word: ')\n",
    "litera = input ('Insert a letter to be counted: ')\n",
    "print (str(litera) + \" occurs in \" + str(slowo) + \" \" + str (letter_counter (slowo, litera)) + \" times\")"
   ]
  },
  {
   "cell_type": "code",
   "execution_count": 28,
   "metadata": {},
   "outputs": [
    {
     "data": {
      "text/plain": [
       "0"
      ]
     },
     "execution_count": 28,
     "metadata": {},
     "output_type": "execute_result"
    }
   ],
   "source": [
    "panda = 'Panda'\n",
    "panda.count('a', 2,3)"
   ]
  },
  {
   "cell_type": "code",
   "execution_count": 30,
   "metadata": {},
   "outputs": [
    {
     "name": "stdout",
     "output_type": "stream",
     "text": [
      "21\n"
     ]
    }
   ],
   "source": [
    "data = 'From stephen.marquard@uct.ac.za Sat Jan 5 09:14:16 2008'\n",
    "atpos = data.find('@')\n",
    "print(atpos)"
   ]
  },
  {
   "cell_type": "code",
   "execution_count": 39,
   "metadata": {},
   "outputs": [
    {
     "ename": "ValueError",
     "evalue": "unsupported format character 'y' (0x79) at index 5",
     "output_type": "error",
     "traceback": [
      "\u001b[1;31m---------------------------------------------------------------------------\u001b[0m",
      "\u001b[1;31mValueError\u001b[0m                                Traceback (most recent call last)",
      "\u001b[1;32m<ipython-input-39-09ac97167671>\u001b[0m in \u001b[0;36m<module>\u001b[1;34m\u001b[0m\n\u001b[1;32m----> 1\u001b[1;33m \u001b[0mprint\u001b[0m\u001b[1;33m(\u001b[0m\u001b[1;34m'In % years I have spotted %g %s.'\u001b[0m \u001b[1;33m%\u001b[0m \u001b[1;33m(\u001b[0m\u001b[1;36m3\u001b[0m\u001b[1;33m,\u001b[0m \u001b[1;36m0.1\u001b[0m\u001b[1;33m,\u001b[0m \u001b[1;34m'camels'\u001b[0m\u001b[1;33m)\u001b[0m\u001b[1;33m)\u001b[0m\u001b[1;33m\u001b[0m\u001b[1;33m\u001b[0m\u001b[0m\n\u001b[0m",
      "\u001b[1;31mValueError\u001b[0m: unsupported format character 'y' (0x79) at index 5"
     ]
    }
   ],
   "source": [
    "print('In % years I have spotted %g %s.' % (3, 0.1, 'camels'))"
   ]
  },
  {
   "cell_type": "code",
   "execution_count": 42,
   "metadata": {},
   "outputs": [
    {
     "name": "stdout",
     "output_type": "stream",
     "text": [
      "8475.0\n",
      "<class 'float'>\n"
     ]
    }
   ],
   "source": [
    "ciag = 'X-DSPAM-Confidence:0.8475'\n",
    "atpos = ciag.find('.')\n",
    "ciag_slice = float(ciag[atpos+1:])\n",
    "print (ciag_slice)\n",
    "print (type(ciag_slice))"
   ]
  },
  {
   "cell_type": "code",
   "execution_count": 130,
   "metadata": {},
   "outputs": [
    {
     "data": {
      "text/plain": [
       "b'Brz\\xc4\\x99czek'"
      ]
     },
     "execution_count": 130,
     "metadata": {},
     "output_type": "execute_result"
    }
   ],
   "source": [
    "name = 'Brzęczek'\n",
    "name.encode(encoding=\"utf-8\", errors = \"strict\")"
   ]
  },
  {
   "cell_type": "code",
   "execution_count": 131,
   "metadata": {},
   "outputs": [
    {
     "data": {
      "text/plain": [
       "'bRZĘCZEK'"
      ]
     },
     "execution_count": 131,
     "metadata": {},
     "output_type": "execute_result"
    }
   ],
   "source": [
    "name.swapcase()"
   ]
  }
 ],
 "metadata": {
  "kernelspec": {
   "display_name": "Python 3",
   "language": "python",
   "name": "python3"
  },
  "language_info": {
   "codemirror_mode": {
    "name": "ipython",
    "version": 3
   },
   "file_extension": ".py",
   "mimetype": "text/x-python",
   "name": "python",
   "nbconvert_exporter": "python",
   "pygments_lexer": "ipython3",
   "version": "3.7.1"
  }
 },
 "nbformat": 4,
 "nbformat_minor": 2
}
