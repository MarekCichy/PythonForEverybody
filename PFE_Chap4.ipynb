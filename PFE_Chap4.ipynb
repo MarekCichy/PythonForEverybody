{
 "cells": [
  {
   "cell_type": "code",
   "execution_count": 3,
   "metadata": {},
   "outputs": [
    {
     "name": "stdout",
     "output_type": "stream",
     "text": [
      "0.4078500978093196\n",
      "0.8128480310155193\n",
      "0.5707066843328872\n",
      "0.30076688130267315\n",
      "0.8866568898424223\n",
      "0.8596253108715\n",
      "0.31053604887479946\n",
      "0.5025727563949394\n",
      "0.2961098544326295\n",
      "0.7948085036599195\n"
     ]
    }
   ],
   "source": [
    "import random\n",
    "for i in range(10):\n",
    "    x = random.random()\n",
    "    print(x)"
   ]
  },
  {
   "cell_type": "code",
   "execution_count": 5,
   "metadata": {},
   "outputs": [
    {
     "name": "stdout",
     "output_type": "stream",
     "text": [
      "0.622249370143107\n",
      "0.014455757515477674\n",
      "0.17593399298250745\n",
      "0.031932438905023064\n",
      "0.4224375230618024\n",
      "0.3349799930671924\n",
      "0.2323647421010845\n",
      "0.27722213295533116\n",
      "0.33871650680052323\n",
      "0.7162314388339618\n",
      "0.21978027574183\n",
      "0.4825554470951443\n",
      "0.8598880252169705\n",
      "0.46435556673080647\n",
      "0.9099340221451668\n",
      "0.04487969264137548\n",
      "0.9339063976574266\n",
      "0.9613811873747624\n",
      "0.5483021190472566\n",
      "0.10337695612452047\n"
     ]
    }
   ],
   "source": [
    "import random\n",
    "for i in range(20):\n",
    "    x = random.random()\n",
    "    print(x)"
   ]
  },
  {
   "cell_type": "code",
   "execution_count": 22,
   "metadata": {},
   "outputs": [
    {
     "name": "stdout",
     "output_type": "stream",
     "text": [
      "I'm a lumberjack, and I'm okay.\n",
      "I sleep all night and I work all day.\n",
      "I'm a lumberjack, and I'm okay.\n",
      "I sleep all night and I work all day.\n"
     ]
    }
   ],
   "source": [
    "def repeat_swa11ow():\n",
    "    preent_lyr1cs()\n",
    "    preent_lyr1cs()\n",
    "def preent_lyr1cs():\n",
    "    print(\"I'm a lumberjack, and I'm okay.\")\n",
    "    print('I sleep all night and I work all day.')\n",
    "repeat_swa11ow()\n"
   ]
  },
  {
   "cell_type": "code",
   "execution_count": 29,
   "metadata": {},
   "outputs": [
    {
     "name": "stdout",
     "output_type": "stream",
     "text": [
      "Enter your hourload:\n",
      "fupa\n",
      "Please enter numeric value, dumbo!\n"
     ]
    }
   ],
   "source": [
    "def computepay (hours, rate):\n",
    "    if hours > 40:\n",
    "        pay = (40 * rate) + (hours-40) * rate * 1.5\n",
    "    else:\n",
    "        pay = hours * rate\n",
    "    return pay\n",
    "\n",
    "try:\n",
    "    hourload = float (input ('Enter your hourload:\\n'))\n",
    "    rateperhour = float (input ('Enter your rate:\\n'))\n",
    "    print (\"Your pay is:\" + str(computepay(hourload, rateperhour)))\n",
    "    \n",
    "except:\n",
    "    print ('Please enter numeric value, dumbo!')"
   ]
  },
  {
   "cell_type": "code",
   "execution_count": 42,
   "metadata": {},
   "outputs": [
    {
     "name": "stdout",
     "output_type": "stream",
     "text": [
      "Please enter a score between 0.0 and 1.0\n",
      "Fupa\n",
      "Don't piss me off, that's not even a number\n"
     ]
    }
   ],
   "source": [
    "def computescore (score):\n",
    "    if score >=0.0 and score < 0.6:\n",
    "        grade = \"F, dumbo!\"\n",
    "    elif score >=0.6 and score < 0.7:\n",
    "        grade = \"D, could be worse, eh?\"\n",
    "    elif score >=0.7 and score < 0.8:\n",
    "        grade = \"C, not bad!\"   \n",
    "    elif score >=0.8 and score < 0.9:\n",
    "        grade = \"B, great!\"\n",
    "    elif score >=0.9 and score <= 1.0:\n",
    "        grade = \"A, congratulations!\"\n",
    "    else:\n",
    "        grade = \"N/A\"\n",
    "        print (\"Not a score\")\n",
    "    return grade\n",
    "\n",
    "try:\n",
    "    score = float (input ('Please enter a score between 0.0 and 1.0\\n'))\n",
    "    print (\"Your grade is: \" + str(computescore (score)))\n",
    "\n",
    "except:\n",
    "    print (\"Don't piss me off, that's not even a number!\")"
   ]
  }
 ],
 "metadata": {
  "kernelspec": {
   "display_name": "Python 3",
   "language": "python",
   "name": "python3"
  },
  "language_info": {
   "codemirror_mode": {
    "name": "ipython",
    "version": 3
   },
   "file_extension": ".py",
   "mimetype": "text/x-python",
   "name": "python",
   "nbconvert_exporter": "python",
   "pygments_lexer": "ipython3",
   "version": "3.7.1"
  }
 },
 "nbformat": 4,
 "nbformat_minor": 2
}
