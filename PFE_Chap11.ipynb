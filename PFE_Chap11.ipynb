{
 "cells": [
  {
   "cell_type": "code",
   "execution_count": 2,
   "metadata": {},
   "outputs": [
    {
     "name": "stdout",
     "output_type": "stream",
     "text": [
      "From: stephen.marquard@uct.ac.za\n",
      "From: louis@media.berkeley.edu\n",
      "From: zqian@umich.edu\n",
      "From: rjlowe@iupui.edu\n",
      "From: zqian@umich.edu\n",
      "From: rjlowe@iupui.edu\n",
      "From: cwen@iupui.edu\n",
      "From: cwen@iupui.edu\n",
      "From: gsilver@umich.edu\n",
      "From: gsilver@umich.edu\n",
      "From: zqian@umich.edu\n",
      "From: gsilver@umich.edu\n",
      "From: wagnermr@iupui.edu\n",
      "From: zqian@umich.edu\n",
      "From: antranig@caret.cam.ac.uk\n",
      "From: gopal.ramasammycook@gmail.com\n",
      "From: david.horwitz@uct.ac.za\n",
      "From: david.horwitz@uct.ac.za\n",
      "From: david.horwitz@uct.ac.za\n",
      "From: david.horwitz@uct.ac.za\n",
      "From: stephen.marquard@uct.ac.za\n",
      "From: louis@media.berkeley.edu\n",
      "From: louis@media.berkeley.edu\n",
      "From: ray@media.berkeley.edu\n",
      "From: cwen@iupui.edu\n",
      "From: cwen@iupui.edu\n",
      "From: cwen@iupui.edu\n"
     ]
    }
   ],
   "source": [
    "import re\n",
    "hand = open('mbox-short.txt')\n",
    "for line in hand:\n",
    "    line = line.rstrip()\n",
    "    if re.search('From:', line):\n",
    "        print(line)"
   ]
  },
  {
   "cell_type": "code",
   "execution_count": 29,
   "metadata": {},
   "outputs": [
    {
     "name": "stdout",
     "output_type": "stream",
     "text": [
      "Enter file name: czandu.txt\n",
      "Enter a regular expression: .ski.\n",
      "The file czandu.txt contains 331 lines that matched '.ski.'\n"
     ]
    }
   ],
   "source": [
    "import re\n",
    "try:\n",
    "    fhand = input ('Enter file name: ')\n",
    "    grep = input ('Enter a regular expression: ')\n",
    "    hand = open(fhand, encoding = 'utf8')\n",
    "    count = 0\n",
    "    for line in hand:\n",
    "        line = line.rstrip()\n",
    "        x = re.findall(grep, line)\n",
    "        if len(x) > 0:\n",
    "            count +=1\n",
    "    print (\"The file \" + str(fhand) + \" contains \" + str(count) + \" lines that matched '\" + str (grep) + \"'\")\n",
    "\n",
    "except:\n",
    "    print ('Incorrect file or regular expression')"
   ]
  },
  {
   "cell_type": "code",
   "execution_count": 34,
   "metadata": {},
   "outputs": [
    {
     "name": "stdout",
     "output_type": "stream",
     "text": [
      "Enter file name: mbox.txt\n",
      "38549.79497206704\n"
     ]
    }
   ],
   "source": [
    "import re\n",
    "fhand = input ('Enter file name: ')\n",
    "hand = open(fhand, encoding = 'utf8')\n",
    "count = 0\n",
    "sum = 0\n",
    "for line in hand:\n",
    "    line = line.rstrip()\n",
    "    x = re.findall('New Revision: ([0-9][0-9][0-9][0-9][0-9]$)', line)\n",
    "    if len(x) > 0: \n",
    "        count += 1\n",
    "        sum = sum + float(x[0])\n",
    "print (sum/count)"
   ]
  }
 ],
 "metadata": {
  "kernelspec": {
   "display_name": "Python 3",
   "language": "python",
   "name": "python3"
  },
  "language_info": {
   "codemirror_mode": {
    "name": "ipython",
    "version": 3
   },
   "file_extension": ".py",
   "mimetype": "text/x-python",
   "name": "python",
   "nbconvert_exporter": "python",
   "pygments_lexer": "ipython3",
   "version": "3.7.1"
  }
 },
 "nbformat": 4,
 "nbformat_minor": 2
}
