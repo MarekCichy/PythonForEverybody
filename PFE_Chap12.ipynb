{
 "cells": [
  {
   "cell_type": "code",
   "execution_count": null,
   "metadata": {},
   "outputs": [],
   "source": [
    "import urllib.request, urllib.parse, urllib.error\n",
    "fhand = urllib.request.urlopen('http://data.pr4e.org/romeo.txt')\n",
    "counts = dict()\n",
    "for line in fhand:\n",
    "    words = line.decode().split()\n",
    "    for word in words:\n",
    "        counts[word] = counts.get(word, 0) + 1\n",
    "print(counts)"
   ]
  },
  {
   "cell_type": "code",
   "execution_count": null,
   "metadata": {},
   "outputs": [],
   "source": [
    "import socket\n",
    "\n",
    "mysock = socket.socket(socket.AF_INET, socket.SOCK_STREAM)\n",
    "mysock.connect(('data.pr4e.org', 80))\n",
    "cmd = 'GET http://data.pr4e.org/romeo.txt HTTP/1.0\\r\\n\\r\\n'.encode()\n",
    "mysock.send(cmd)\n",
    "while True:\n",
    "    data = mysock.recv(512)\n",
    "    \n",
    "    if len(data) < 1:\n",
    "        break\n",
    "    \n",
    "    print(data.decode(),end='')\n",
    "    \n",
    "mysock.close()"
   ]
  },
  {
   "cell_type": "code",
   "execution_count": null,
   "metadata": {},
   "outputs": [],
   "source": [
    "import socket\n",
    "\n",
    "url = input ('Please enter a URL to retrieve data:')\n",
    "surl = url.split('/')\n",
    "\n",
    "'''\n",
    "print (url)\n",
    "print (type(url))\n",
    "print (surl)\n",
    "print (server)\n",
    "'''\n",
    "try:\n",
    "    server = surl[2]\n",
    "    mysock = socket.socket(socket.AF_INET, socket.SOCK_STREAM)\n",
    "    mysock.connect((str(server), 80))\n",
    "    url = 'GET ' + url + ' HTTP/1.0\\r\\n\\r\\n'\n",
    "    cmd = url.encode()\n",
    "    mysock.send(cmd)\n",
    "    while True:\n",
    "        data = mysock.recv(512)\n",
    "    \n",
    "        if len(data) < 1:\n",
    "            break\n",
    "    \n",
    "        print(data.decode(),end='')\n",
    "    \n",
    "    mysock.close()\n",
    "\n",
    "except:\n",
    "    print ('Invalid URL')"
   ]
  },
  {
   "cell_type": "code",
   "execution_count": null,
   "metadata": {},
   "outputs": [],
   "source": [
    "import socket\n",
    "\n",
    "url = input ('Please enter a URL to retrieve data:')\n",
    "surl = url.split('/')\n",
    "server = surl[2]\n",
    "data_total = ''\n",
    "'''\n",
    "print (url)\n",
    "print (type(url))\n",
    "print (surl)\n",
    "print (server)\n",
    "'''\n",
    "mysock = socket.socket(socket.AF_INET, socket.SOCK_STREAM)\n",
    "mysock.connect((str(server), 80))\n",
    "url = 'GET ' + url + ' HTTP/1.0\\r\\n\\r\\n'\n",
    "cmd = url.encode()\n",
    "mysock.send(cmd)\n",
    "while True:\n",
    "    data = mysock.recv(512)\n",
    "    \n",
    "    if len(data) < 1:\n",
    "        break\n",
    "    data_total = data_total + str(data.decode())\n",
    "\n",
    "    \n",
    "mysock.close()\n",
    "print(data_total[:3000])\n",
    "print(len(data_total[:3000]))"
   ]
  },
  {
   "cell_type": "code",
   "execution_count": null,
   "metadata": {},
   "outputs": [],
   "source": [
    "import urllib.request, urllib.parse, urllib.error\n",
    "url = input ('Please enter a URL to retrieve data:')\n",
    "fhand = urllib.request.urlopen(url)\n",
    "counts = dict()\n",
    "data_total = ''\n",
    "for line in fhand:\n",
    "    words = line.decode()\n",
    "    data_total = data_total + words\n",
    "print (data_total[:3000])\n",
    "print (len(data_total[:3000]))"
   ]
  },
  {
   "cell_type": "code",
   "execution_count": 2,
   "metadata": {},
   "outputs": [
    {
     "name": "stdout",
     "output_type": "stream",
     "text": [
      "Enter - https://www.tutorialspoint.com/python/dictionary_get.htm\n",
      "TAG: <p>The method <b>get()</b> returns a value for the given key. If key is not available then returns default value None.</p>\n",
      "TAG: <p>Following is the syntax for <b>get()</b> method −</p>\n",
      "TAG: <p><b>key</b> − This is the Key to be searched in the dictionary.</p>\n",
      "TAG: <p><b>default</b> − This is the Value to be returned in case key does not exist.</p>\n",
      "TAG: <p>This method return a value for the given key. If key is not available, then returns default value None.</p>\n",
      "TAG: <p>The following example shows the usage of get() method.</p>\n",
      "TAG: <p>When we run above program, it produces following result −</p>\n",
      "TAG: <p>© Copyright 2019. All Rights Reserved.</p>\n",
      "8\n"
     ]
    }
   ],
   "source": [
    "import urllib.request, urllib.parse, urllib.error\n",
    "from bs4 import BeautifulSoup\n",
    "import ssl\n",
    "\n",
    "# Ignore SSL certificate errors\n",
    "\n",
    "ctx = ssl.create_default_context()\n",
    "ctx.check_hostname = False\n",
    "ctx.verify_mode = ssl.CERT_NONE\n",
    "\n",
    "url = input('Enter - ')\n",
    "html = urllib.request.urlopen(url, context=ctx).read()\n",
    "soup = BeautifulSoup(html, 'html.parser')\n",
    "\n",
    "# Retrieve all of the anchor tags\n",
    "#print (soup)\n",
    "tags = soup('p')\n",
    "count = 0\n",
    "for tag in tags:\n",
    "    print('TAG:', tag)\n",
    "    count += 1\n",
    "\n",
    "print (count)"
   ]
  },
  {
   "cell_type": "code",
   "execution_count": 52,
   "metadata": {},
   "outputs": [
    {
     "name": "stdout",
     "output_type": "stream",
     "text": [
      "But soft what light through yonder window breaks\n",
      "It is the east and Juliet is the sun\n",
      "Arise fair sun and kill the envious moon\n",
      "Who is already sick and pale with grief\n",
      "\n"
     ]
    }
   ],
   "source": [
    "import socket\n",
    "\n",
    "mysock = socket.socket(socket.AF_INET, socket.SOCK_STREAM)\n",
    "mysock.connect(('data.pr4e.org', 80))\n",
    "cmd = 'GET http://data.pr4e.org/romeo.txt HTTP/1.0\\r\\n\\r\\n'.encode()\n",
    "mysock.send(cmd)\n",
    "total_bdata = b''\n",
    "while True:\n",
    "    data = mysock.recv(512)\n",
    "    \n",
    "    if len(data) < 1:\n",
    "        break\n",
    "\n",
    "    total_bdata = total_bdata + data\n",
    "    \n",
    "total_bdata = total_bdata.split(b\"\\r\\n\\r\\n\")\n",
    "total_bdata = total_bdata [1]\n",
    "total_bdata = total_bdata.decode()\n",
    "print (total_bdata)\n",
    "\n",
    "mysock.close()"
   ]
  }
 ],
 "metadata": {
  "kernelspec": {
   "display_name": "Python 3",
   "language": "python",
   "name": "python3"
  },
  "language_info": {
   "codemirror_mode": {
    "name": "ipython",
    "version": 3
   },
   "file_extension": ".py",
   "mimetype": "text/x-python",
   "name": "python",
   "nbconvert_exporter": "python",
   "pygments_lexer": "ipython3",
   "version": "3.7.1"
  }
 },
 "nbformat": 4,
 "nbformat_minor": 2
}
